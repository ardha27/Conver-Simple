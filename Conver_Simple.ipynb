{
  "nbformat": 4,
  "nbformat_minor": 0,
  "metadata": {
    "colab": {
      "provenance": [],
      "gpuType": "T4",
      "authorship_tag": "ABX9TyPBn04WHeIftRbSxHAupIZO",
      "include_colab_link": true
    },
    "kernelspec": {
      "name": "python3",
      "display_name": "Python 3"
    },
    "language_info": {
      "name": "python"
    },
    "accelerator": "GPU"
  },
  "cells": [
    {
      "cell_type": "markdown",
      "metadata": {
        "id": "view-in-github",
        "colab_type": "text"
      },
      "source": [
        "<a href=\"https://colab.research.google.com/github/ardha27/Conver-Simple/blob/main/Conver_Simple.ipynb\" target=\"_parent\"><img src=\"https://colab.research.google.com/assets/colab-badge.svg\" alt=\"Open In Colab\"/></a>"
      ]
    },
    {
      "cell_type": "code",
      "source": [
        "from google.colab import drive\n",
        "drive.mount('/content/drive')"
      ],
      "metadata": {
        "id": "BNitOxWenqdE"
      },
      "execution_count": null,
      "outputs": []
    },
    {
      "cell_type": "code",
      "execution_count": null,
      "metadata": {
        "id": "u-jpmUv-mtkb"
      },
      "outputs": [],
      "source": [
        "!git clone https://github.com/ardha27/Conver-Simple.git\n",
        "%cd Conver-Simple/\n",
        "!pip install -r requirements.txt -q\n",
        "!pip install IPython -q\n",
        "!pip install pydub -q\n",
        "!apt -y install -qq aria2"
      ]
    },
    {
      "cell_type": "code",
      "source": [
        "# @title Unzip Model\n",
        "models_name = \"\" # @param {type:\"string\"}\n",
        "models_path = \"\" # @param {type:\"string\"}\n",
        "\n",
        "!mkdir -p conver_models/{models_name}\n",
        "!unzip {models_path} -d /content/Conver-Simple/conver_models/{models_name}/"
      ],
      "metadata": {
        "id": "NUgGEY_Anfhp"
      },
      "execution_count": null,
      "outputs": []
    },
    {
      "cell_type": "code",
      "source": [
        "#@title Download hubert_base\n",
        "!aria2c --console-log-level=error -c -x 16 -s 16 -k 1M https://huggingface.co/lj1995/VoiceConversionWebUI/resolve/main/hubert_base.pt -d /content/Conver-Simple/conver_models -o hubert_base.pt\n",
        "!aria2c --console-log-level=error -c -x 16 -s 16 -k 1M https://huggingface.co/lj1995/VoiceConversionWebUI/resolve/main/rmvpe.pt -d /content/Conver-Simple/conver_models -o rmvpe.pt"
      ],
      "metadata": {
        "id": "Qja903i9rLkb"
      },
      "execution_count": null,
      "outputs": []
    },
    {
      "cell_type": "code",
      "source": [
        "# @title Upload File\n",
        "from google.colab import files\n",
        "from IPython.display import Audio, display\n",
        "\n",
        "uploaded = files.upload()\n",
        "audio_input = list(uploaded.keys())[0]\n",
        "Audio(audio_input, autoplay=True)\n"
      ],
      "metadata": {
        "id": "BS6j5H5wr8w6"
      },
      "execution_count": null,
      "outputs": []
    },
    {
      "cell_type": "code",
      "source": [
        "# @title Inference\n",
        "import os\n",
        "from pydub import AudioSegment\n",
        "\n",
        "pitch_change = 0 # @param {type:\"slider\", min:-12, max:12, step:1}\n",
        "\n",
        "command = f\"python main.py -vm '{models_name}' -mv '{audio_input}' -ap 'output.wav' -pc '{pitch_change}'\"\n",
        "!{command}\n",
        "\n",
        "# WAV to MP3\n",
        "input_wav_file = \"output.wav\"\n",
        "output_mp3_file = \"output.mp3\"\n",
        "\n",
        "audio = AudioSegment.from_file(input_wav_file, format=\"wav\")\n",
        "audio.export(output_mp3_file, format=\"mp3\")\n",
        "os.remove(input_wav_file)\n",
        "\n",
        "Audio(\"output.mp3\", autoplay=True)"
      ],
      "metadata": {
        "id": "1LsfRiesrsfD"
      },
      "execution_count": null,
      "outputs": []
    }
  ]
}